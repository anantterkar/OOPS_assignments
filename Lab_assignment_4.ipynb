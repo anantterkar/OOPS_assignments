{
  "nbformat": 4,
  "nbformat_minor": 0,
  "metadata": {
    "colab": {
      "name": "Lab_assignment_4.ipynb",
      "provenance": [],
      "collapsed_sections": [],
      "authorship_tag": "ABX9TyPKTzrMmwmgZCVDaUN0ftoi",
      "include_colab_link": true
    },
    "kernelspec": {
      "name": "python3",
      "display_name": "Python 3"
    },
    "language_info": {
      "name": "python"
    }
  },
  "cells": [
    {
      "cell_type": "markdown",
      "metadata": {
        "id": "view-in-github",
        "colab_type": "text"
      },
      "source": [
        "<a href=\"https://colab.research.google.com/github/anantterkar/OOPS_assignments/blob/main/Lab_assignment_4.ipynb\" target=\"_parent\"><img src=\"https://colab.research.google.com/assets/colab-badge.svg\" alt=\"Open In Colab\"/></a>"
      ]
    },
    {
      "cell_type": "markdown",
      "metadata": {
        "id": "U6-DdEn7fzoJ"
      },
      "source": [
        "## Problem 1\n",
        "Write a python code to create a class node with data and address of next node as\n",
        "parameters. Derive stack class from node class with top position or head node position as a\n",
        "parameter and also perform the following operations."
      ]
    },
    {
      "cell_type": "code",
      "metadata": {
        "colab": {
          "base_uri": "https://localhost:8080/"
        },
        "id": "D7NjrWlvfsH6",
        "outputId": "be9463ca-dced-4908-fe65-e3c4185be63e"
      },
      "source": [
        "class node():\n",
        "  def __init__(self,data):\n",
        "    self.data = data\n",
        "    self.next = None\n",
        "  \n",
        "  def __del__(self):\n",
        "    print(\"Node deleted\")\n",
        "\n",
        "class Stack():\n",
        "  def __init__(self):\n",
        "    self.top = node(None)\n",
        "    self.size = 0\n",
        "\n",
        "  def isEmpty(self):\n",
        "    if self.size==0:\n",
        "      return True\n",
        "\n",
        "  def push(self,data):\n",
        "    temp = node(data)\n",
        "    temp.next = self.top.next\n",
        "    self.top.next = temp\n",
        "    self.size = self.size + 1\n",
        "\n",
        "  def pop(self):\n",
        "    if self.isEmpty():\n",
        "      print(\"Stack underflow\")\n",
        "    temp = self.top.next\n",
        "    self.top.next = self.top.next.next\n",
        "    self.size = self.size - 1\n",
        "    return temp.data\n",
        "\n",
        "  def display(self):\n",
        "    if self.isEmpty():\n",
        "      print(\"stack is empty\")\n",
        "    temp = self.top\n",
        "    while(temp!=None):\n",
        "      print(temp.data)\n",
        "      temp = temp.next\n",
        "\n",
        "\n",
        "stack = Stack()\n",
        "for k in range(1,6):\n",
        "  stack.push(k*k)\n",
        "stack.pop()\n",
        "stack.display()\n"
      ],
      "execution_count": 32,
      "outputs": [
        {
          "output_type": "stream",
          "name": "stdout",
          "text": [
            "Node deleted\n",
            "Node deleted\n",
            "Node deleted\n",
            "Node deleted\n",
            "Node deleted\n",
            "Node deleted\n",
            "Node deleted\n",
            "None\n",
            "16\n",
            "9\n",
            "4\n",
            "1\n"
          ]
        }
      ]
    },
    {
      "cell_type": "markdown",
      "metadata": {
        "id": "5wowMT8a14a-"
      },
      "source": [
        "## Problem 2\n",
        "Write a python code to calculate the area of a rectangle using parametrized and default\n",
        "constructors."
      ]
    },
    {
      "cell_type": "code",
      "metadata": {
        "colab": {
          "base_uri": "https://localhost:8080/"
        },
        "id": "epd5-L-V15j-",
        "outputId": "dcb82e2a-654b-4038-b042-ece6ed6e740d"
      },
      "source": [
        "#using parameterized constructor\n",
        "\n",
        "class rectangle():\n",
        "  def __init__(self,l,b):\n",
        "    self.l = l\n",
        "    self.b = b\n",
        "  def area(self):\n",
        "    print(self.l * self.b)\n",
        "\n",
        "obj = rectangle(3,4)\n",
        "obj.area()"
      ],
      "execution_count": 41,
      "outputs": [
        {
          "output_type": "stream",
          "name": "stdout",
          "text": [
            "12\n"
          ]
        }
      ]
    },
    {
      "cell_type": "code",
      "metadata": {
        "colab": {
          "base_uri": "https://localhost:8080/"
        },
        "id": "ZrpZbZI-DG-t",
        "outputId": "411bc23d-82b5-493d-efa3-9d40993dffc0"
      },
      "source": [
        "#using default constructors\n",
        "\n",
        "class rectangle():\n",
        "  def __init__(self):\n",
        "    self.l = 3\n",
        "    self.b = 4\n",
        "  def area(self):\n",
        "    print(self.l * self.b)\n",
        "\n",
        "obj = rectangle()\n",
        "obj.area()"
      ],
      "execution_count": 45,
      "outputs": [
        {
          "output_type": "stream",
          "name": "stdout",
          "text": [
            "12\n"
          ]
        }
      ]
    },
    {
      "cell_type": "markdown",
      "metadata": {
        "id": "dJlbP6UlEIP9"
      },
      "source": [
        "##Problem 3\n",
        "Write a python program to implement queue operations using constructors and destructors."
      ]
    },
    {
      "cell_type": "code",
      "metadata": {
        "colab": {
          "base_uri": "https://localhost:8080/"
        },
        "id": "_3aL_jnjEJql",
        "outputId": "149d02ed-6d9f-4c0e-f4b8-2461d1ff9a0c"
      },
      "source": [
        "class node():\n",
        "  def __init__(self,data):\n",
        "    self.data = data\n",
        "    self.next = None\n",
        "  def __del__(self):\n",
        "    print(\"Node deleted\")\n",
        "\n",
        "class Queue():\n",
        "  def __init__(self):\n",
        "    self.front = None\n",
        "    self.rear = None\n",
        "\n",
        "  def enqueue(self,data):\n",
        "    temp = node(data)\n",
        "    if self.front == None:\n",
        "      self.front = temp\n",
        "      self.rear = temp\n",
        "    else:\n",
        "      self.rear.next = temp\n",
        "      self.rear = temp\n",
        "\n",
        "  def dequeue(self):\n",
        "    if self.front == None:\n",
        "      print(\"Underflow condition\")\n",
        "    else:\n",
        "      temp = self.front\n",
        "      self.front = self.front.next\n",
        "      if self.front==None:\n",
        "        self.rear = None\n",
        "      del temp\n",
        "\n",
        "  def display(self):\n",
        "    temp = self.front\n",
        "    while(temp!=None):\n",
        "      print(temp.data,\"->\",end=\"\")\n",
        "      temp = temp.next\n",
        "    print(\"\\n\")\n",
        "    \n",
        "q = Queue()\n",
        "q.enqueue(10)\n",
        "q.enqueue(20)\n",
        "q.enqueue(30)\n",
        "q.enqueue(40)\n",
        "q.display()\n",
        "q.dequeue()\n",
        "q.display()"
      ],
      "execution_count": 77,
      "outputs": [
        {
          "output_type": "stream",
          "name": "stdout",
          "text": [
            "Node deleted\n",
            "Node deleted\n",
            "Node deleted\n",
            "10 ->20 ->30 ->40 ->\n",
            "\n",
            "Node deleted\n",
            "20 ->30 ->40 ->\n",
            "\n"
          ]
        }
      ]
    }
  ]
}