{
  "nbformat": 4,
  "nbformat_minor": 0,
  "metadata": {
    "colab": {
      "name": "OOPS_assignment1.ipynb",
      "provenance": [],
      "collapsed_sections": [],
      "authorship_tag": "ABX9TyPDT8zAHJeSTGuFk1mPdVQw",
      "include_colab_link": true
    },
    "kernelspec": {
      "name": "python3",
      "display_name": "Python 3"
    },
    "language_info": {
      "name": "python"
    }
  },
  "cells": [
    {
      "cell_type": "markdown",
      "metadata": {
        "id": "view-in-github",
        "colab_type": "text"
      },
      "source": [
        "<a href=\"https://colab.research.google.com/github/anantterkar/OOPS_assignments/blob/main/OOPS_assignment1.ipynb\" target=\"_parent\"><img src=\"https://colab.research.google.com/assets/colab-badge.svg\" alt=\"Open In Colab\"/></a>"
      ]
    },
    {
      "cell_type": "markdown",
      "metadata": {
        "id": "VWG_Hbeb4pEp"
      },
      "source": [
        "Problem 1"
      ]
    },
    {
      "cell_type": "code",
      "metadata": {
        "colab": {
          "base_uri": "https://localhost:8080/"
        },
        "id": "iyfHU1074bDt",
        "outputId": "2bbf5dcb-6a39-4f1b-cd51-cc8551931882"
      },
      "source": [
        "def isleap(year):\n",
        "  if(year%4==0 and year%100==0 and year%400==0):\n",
        "    print(\"True\\n\")\n",
        "  elif(year%4==0 and year%100==0):\n",
        "    print(\"False\\n\")\n",
        "  elif(year%4!=0):\n",
        "    print(\"False\\n\")\n",
        "\n",
        "\n",
        "isleap(219)\n",
        "isleap(1900)\n",
        "isleap(2000)\n"
      ],
      "execution_count": null,
      "outputs": [
        {
          "output_type": "stream",
          "name": "stdout",
          "text": [
            "False\n",
            "\n",
            "False\n",
            "\n",
            "True\n",
            "\n"
          ]
        }
      ]
    },
    {
      "cell_type": "markdown",
      "metadata": {
        "id": "Omv_rlvJ-nkU"
      },
      "source": [
        "Problem 2"
      ]
    },
    {
      "cell_type": "code",
      "metadata": {
        "colab": {
          "base_uri": "https://localhost:8080/"
        },
        "id": "2oR935uR-o2c",
        "outputId": "7564df23-f02f-48be-b404-da6b40262592"
      },
      "source": [
        "def isWeird(x):\n",
        "  if(x%2!=0):\n",
        "    print(\"Weird\\n\")\n",
        "  if(x%2==0):\n",
        "    if(x>=2 and x<=5):\n",
        "      print(\"Not Weird\\n\")\n",
        "    if(x>=6 and x<=20):\n",
        "      print(\"Weird\\n\")\n",
        "    if(x>20):\n",
        "      print(\"Not Weird\\n\")\n",
        "isWeird(203)\n",
        "isWeird(22)\n",
        "isWeird(4)\n",
        "isWeird(16)"
      ],
      "execution_count": null,
      "outputs": [
        {
          "output_type": "stream",
          "name": "stdout",
          "text": [
            "Weird\n",
            "\n",
            "Not Weird\n",
            "\n",
            "Not Weird\n",
            "\n",
            "Weird\n",
            "\n"
          ]
        }
      ]
    },
    {
      "cell_type": "markdown",
      "metadata": {
        "id": "mwTi-IVqAHR8"
      },
      "source": [
        "Problem 3"
      ]
    },
    {
      "cell_type": "code",
      "metadata": {
        "id": "mqAKOi2RAIyK",
        "colab": {
          "base_uri": "https://localhost:8080/"
        },
        "outputId": "6ff1656a-749c-4e79-ef50-2fe5e6c84e66"
      },
      "source": [
        "def islate(Arrivals,person):\n",
        "  if(person==Arrivals[-2] or person==Arrivals[-3] or person==Arrivals[-4]):\n",
        "    print(\"fashionably late\\n\")\n",
        "  else:\n",
        "    print(\"not fashionably late\\n\")\n",
        "\n",
        "Arrivals = []\n",
        "n = int(input(\"Enter number of members : \"))\n",
        "for i in range(0, n):\n",
        "    ele = input()\n",
        "    Arrivals.append(ele) \n",
        "person = input(\"Enter the name of the person:\")\n",
        "islate(Arrivals,person)"
      ],
      "execution_count": null,
      "outputs": [
        {
          "output_type": "stream",
          "name": "stdout",
          "text": [
            "Enter number of members : 5\n",
            "rahul\n",
            "rohit\n",
            "ramit\n",
            "ram\n",
            "rola\n",
            "Enter the name of the person:ramit\n",
            "fashionably late\n",
            "\n"
          ]
        }
      ]
    },
    {
      "cell_type": "markdown",
      "metadata": {
        "id": "Z1B23K0p6izp"
      },
      "source": [
        "Problem 4"
      ]
    },
    {
      "cell_type": "code",
      "metadata": {
        "id": "1EUNCyf26kKA",
        "colab": {
          "base_uri": "https://localhost:8080/"
        },
        "outputId": "dd313cc6-0dfd-4c4e-f750-e2a8a9529c78"
      },
      "source": [
        "def findstring(doc_list,word):\n",
        "  word = str.upper(word)\n",
        "  #print(word)\n",
        "  count = 0\n",
        "  for i in range(len(doc_list)):\n",
        "    list1 = []\n",
        "    list1 += doc_list[i].split(\" \")\n",
        "    #print(list1)\n",
        "    for j in range(len(list1)):\n",
        "      list1[j] = str.upper(list1[j])\n",
        "      #print(list1[j])\n",
        "      if list1[j] == word:\n",
        "        count = count+1\n",
        "  return count\n",
        "doc_list = [\"The Learn Python Challenge Rohit\",\"They bought a car\",\"bangalore\"]\n",
        "\n",
        "result = findstring(doc_list,\"rohit\")\n",
        "if result>0:\n",
        "  print(\"FOUND\\n\")\n",
        "else:\n",
        "  print(\"NOT FOUND\\n\")"
      ],
      "execution_count": null,
      "outputs": [
        {
          "output_type": "stream",
          "name": "stdout",
          "text": [
            "FOUND\n",
            "\n"
          ]
        }
      ]
    },
    {
      "cell_type": "markdown",
      "metadata": {
        "id": "G8ZLY_ZVZw_t"
      },
      "source": [
        "Problem 5"
      ]
    },
    {
      "cell_type": "code",
      "metadata": {
        "colab": {
          "base_uri": "https://localhost:8080/"
        },
        "id": "KJOdfo7fZyrE",
        "outputId": "842bcf58-8f9a-4ffe-a790-226c5705711b"
      },
      "source": [
        "def GP(BP):\n",
        "  return 1.6*BP\n",
        "print(GP(80000))\n",
        "print(GP(200000))"
      ],
      "execution_count": null,
      "outputs": [
        {
          "output_type": "stream",
          "name": "stdout",
          "text": [
            "128000.0\n",
            "320000.0\n"
          ]
        }
      ]
    }
  ]
}