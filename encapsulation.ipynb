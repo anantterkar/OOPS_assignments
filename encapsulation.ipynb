{
  "nbformat": 4,
  "nbformat_minor": 0,
  "metadata": {
    "colab": {
      "name": "encapsulation.ipynb",
      "provenance": [],
      "authorship_tag": "ABX9TyMr5TFuNf0owpSgC0lXEc0j",
      "include_colab_link": true
    },
    "kernelspec": {
      "name": "python3",
      "display_name": "Python 3"
    },
    "language_info": {
      "name": "python"
    }
  },
  "cells": [
    {
      "cell_type": "markdown",
      "metadata": {
        "id": "view-in-github",
        "colab_type": "text"
      },
      "source": [
        "<a href=\"https://colab.research.google.com/github/anantterkar/OOPS_assignments/blob/main/encapsulation.ipynb\" target=\"_parent\"><img src=\"https://colab.research.google.com/assets/colab-badge.svg\" alt=\"Open In Colab\"/></a>"
      ]
    },
    {
      "cell_type": "code",
      "metadata": {
        "colab": {
          "base_uri": "https://localhost:8080/"
        },
        "id": "iCh2NNCiHozJ",
        "outputId": "b80b74c7-7c2c-43af-acb7-bd5e27f955f8"
      },
      "source": [
        "class country():\n",
        "  def __init__(self,name,region):\n",
        "    self.name = name\n",
        "    self.region = region\n",
        "\n",
        "  def print_name(self):\n",
        "    print(\"Hello!, your country name is: \",self.name)\n",
        "    print(\"The region is: \",self.region)\n",
        "\n",
        "c1 = country(\"USA\",\"NA\")      #NA = North America\n",
        "c2 = country(\"Egypt\",\"EMEA\") #EMEA = Europe Middle East Africa\n",
        "c3 = country(\"India\",\"SEA\")  #SEA = South East Asia \n",
        "\n",
        "c1.print_name()\n",
        "c2.print_name()\n",
        "c3.print_name()\n",
        "\n",
        "\n"
      ],
      "execution_count": 4,
      "outputs": [
        {
          "output_type": "stream",
          "name": "stdout",
          "text": [
            "Hello!, your country name is:  USA\n",
            "The region is:  NA\n",
            "Hello!, your country name is:  Egypt\n",
            "The region is:  EMEA\n",
            "Hello!, your country name is:  India\n",
            "The region is:  SEA\n"
          ]
        }
      ]
    },
    {
      "cell_type": "code",
      "metadata": {
        "colab": {
          "base_uri": "https://localhost:8080/"
        },
        "id": "8k3GljbaIFLV",
        "outputId": "ee23346f-6067-4b52-f74c-bd2002ddd0a2"
      },
      "source": [
        "class Car:\n",
        "    __maxspeed = 0\n",
        "    __name = \"\"    \n",
        "    def __init__(self):\n",
        "        self.__maxspeed = 400\n",
        "        self.__name = \"Supercar\"    \n",
        "    def drive(self):\n",
        "        print('driving. maxspeed ' + str(self.__maxspeed))\n",
        "    \n",
        "\n",
        "redcar = Car()\n",
        "redcar.drive()\n",
        "redcar.__maxspeed = 10        # will not change variable because its private\n",
        "redcar.drive()\n"
      ],
      "execution_count": 6,
      "outputs": [
        {
          "output_type": "stream",
          "name": "stdout",
          "text": [
            "driving. maxspeed 400\n",
            "driving. maxspeed 400\n"
          ]
        }
      ]
    },
    {
      "cell_type": "code",
      "metadata": {
        "colab": {
          "base_uri": "https://localhost:8080/"
        },
        "id": "9TXnKmZNLAA2",
        "outputId": "6a40bcc7-a5db-4715-fe6f-c1ba4e7c4118"
      },
      "source": [
        "class base():\n",
        "  def __init__(self):\n",
        "    self.a = \"OOP Course\"\n",
        "    self._c = \"My name\"\n",
        "    print(self._c)\n",
        "\n",
        "b = base()\n",
        "print(b.a)\n",
        "print(b._c)"
      ],
      "execution_count": 11,
      "outputs": [
        {
          "output_type": "stream",
          "name": "stdout",
          "text": [
            "My name\n",
            "OOP Course\n",
            "My name\n"
          ]
        }
      ]
    },
    {
      "cell_type": "code",
      "metadata": {
        "colab": {
          "base_uri": "https://localhost:8080/"
        },
        "id": "US2yw375MxiQ",
        "outputId": "4acee2d4-8ce0-4b08-cc14-db6c19dcc235"
      },
      "source": [
        "#Example of a non-paramaterized constructor\n",
        "class scale():\n",
        "  def __init__(self):\n",
        "    pass\n",
        "  def met(self,size):\n",
        "    return size*100\n",
        "s1 = scale()\n",
        "print(s1.met(2))"
      ],
      "execution_count": 14,
      "outputs": [
        {
          "output_type": "stream",
          "name": "stdout",
          "text": [
            "200\n"
          ]
        }
      ]
    },
    {
      "cell_type": "code",
      "metadata": {
        "colab": {
          "base_uri": "https://localhost:8080/"
        },
        "id": "yA7cCRTqN02v",
        "outputId": "175eebdf-bf8a-47bc-b68f-ff86de42e8d5"
      },
      "source": [
        "class color():\n",
        "  def __init__(self,r,b,g):\n",
        "    self.r = r\n",
        "    self.b = b\n",
        "    self.g = g\n",
        "  def giveoutput(self,name):\n",
        "    print(\"The color contains r,b,g :\")\n",
        "    print(self.r,self.b,self.g)\n",
        "    print(\"The color is: \",name)\n",
        "\n",
        "c1 = color(201,34,89)\n",
        "c1.giveoutput(\"cyan\")\n",
        "\n"
      ],
      "execution_count": 16,
      "outputs": [
        {
          "output_type": "stream",
          "name": "stdout",
          "text": [
            "The color contains r,b,g :\n",
            "201 34 89\n",
            "The color is:  cyan\n"
          ]
        }
      ]
    },
    {
      "cell_type": "code",
      "metadata": {
        "colab": {
          "base_uri": "https://localhost:8080/"
        },
        "id": "hdIXMcanQKlf",
        "outputId": "f88445bb-0400-4a0e-968f-908064639c12"
      },
      "source": [
        "# Python Default Constructor\n",
        "# Example parametrized constructors\n",
        "class student:\n",
        "    name = \"Ram\"\n",
        "    age =  21\n",
        "\n",
        "    def display(self,styear):\n",
        "       print(\"Student joined IIIT Dharwad   :\", self.name, self.age, styear)\n",
        "       if styear <= 2020 :\n",
        "         print (\"Student has completed the course\")\n",
        "       return \n",
        "s1=student()\n",
        "s2=student()\n",
        "s3=student()\n",
        "\n",
        "s1.display(2021)\n",
        "s2.display(2019)"
      ],
      "execution_count": 17,
      "outputs": [
        {
          "output_type": "stream",
          "name": "stdout",
          "text": [
            "Student joined IIIT Dharwad   : Ram 21 2021\n",
            "Student joined IIIT Dharwad   : Ram 21 2019\n",
            "Student has completed the course\n"
          ]
        }
      ]
    }
  ]
}