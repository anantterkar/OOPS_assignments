{
  "nbformat": 4,
  "nbformat_minor": 0,
  "metadata": {
    "colab": {
      "name": "Inheritance.ipynb",
      "provenance": [],
      "authorship_tag": "ABX9TyOLWaAE/i5BeNJlZE2XV/3U",
      "include_colab_link": true
    },
    "kernelspec": {
      "name": "python3",
      "display_name": "Python 3"
    },
    "language_info": {
      "name": "python"
    }
  },
  "cells": [
    {
      "cell_type": "markdown",
      "metadata": {
        "id": "view-in-github",
        "colab_type": "text"
      },
      "source": [
        "<a href=\"https://colab.research.google.com/github/anantterkar/OOPS_assignments/blob/main/Inheritance.ipynb\" target=\"_parent\"><img src=\"https://colab.research.google.com/assets/colab-badge.svg\" alt=\"Open In Colab\"/></a>"
      ]
    },
    {
      "cell_type": "code",
      "metadata": {
        "colab": {
          "base_uri": "https://localhost:8080/"
        },
        "id": "4XqQ8iykRORX",
        "outputId": "05eb0c53-1414-4593-861c-0f29fe63b88d"
      },
      "source": [
        "# Problem 1: Create a Player class\n",
        "class Player:\n",
        "    MAX_POSITION = 10     # Class attribute   \n",
        "    def __init__(self):\n",
        "      self.position = 0 \n",
        "Player.MAX_POSITION = 20\n",
        "print(Player.MAX_POSITION)    \n",
        "p = Player()\n",
        "print(p.MAX_POSITION)  "
      ],
      "execution_count": 2,
      "outputs": [
        {
          "output_type": "stream",
          "name": "stdout",
          "text": [
            "20\n",
            "20\n"
          ]
        }
      ]
    },
    {
      "cell_type": "code",
      "metadata": {
        "colab": {
          "base_uri": "https://localhost:8080/"
        },
        "id": "KyH2LWlTSFVv",
        "outputId": "5c786ead-e971-4885-f8a8-a2c5dd0c700a"
      },
      "source": [
        "## Problem2 :\n",
        "class Player:\n",
        "    MAX_POSITION = 10     # Class attribute   \n",
        "    def __init__(self):\n",
        "      self.position = 0\n",
        "class Racer(Player):\n",
        "    MAX_SPEED = 5      # adding attributes to Child Class\n",
        "p = Player()\n",
        "r = Racer()\n",
        "# What is the output?\n",
        "#print(\"p.MAX_SPEED = \", p.MAX_SPEED)   child class has inherited the attributes of the parent and not the other way\n",
        "print(\"r.MAX_SPEED = \", r.MAX_SPEED)\n",
        "print(\"p.MAX_POSITION = \", p.MAX_POSITION)\n",
        "print(\"r.MAX_POSITION = \", r.MAX_POSITION)"
      ],
      "execution_count": 4,
      "outputs": [
        {
          "output_type": "stream",
          "name": "stdout",
          "text": [
            "r.MAX_SPEED =  5\n",
            "p.MAX_POSITION =  10\n",
            "r.MAX_POSITION =  10\n"
          ]
        }
      ]
    },
    {
      "cell_type": "code",
      "metadata": {
        "colab": {
          "base_uri": "https://localhost:8080/"
        },
        "id": "NH3beWh2TyaA",
        "outputId": "5b494393-b446-4a3a-8779-f2d857f38517"
      },
      "source": [
        "# Problem 3: making changes in Child class methods\n",
        "class Employee:\n",
        "    def __init__(self, name, salary=30000):\n",
        "        self.name = name\n",
        "        self.salary = salary\n",
        "    def give_raise(self, amount):\n",
        "        self.salary += amount        \n",
        "class Manager(Employee):\n",
        "    def display(self):\n",
        "        print(\"Manager \", self.name)\n",
        "    def __init__(self, name, salary=50000, project=None):\n",
        "        Employee.__init__(self, name, salary)\n",
        "        self.project = project\n",
        "    def give_raise(self, amount, bonus=1.05): \n",
        "        new_amount = amount * bonus\n",
        "        Employee.give_raise(self, new_amount)  #here the \"give_raise\" method refers to the one in parent class and\n",
        "                                               #hence the salary is updated\n",
        "mngr = Manager(\"Ram\", 78500)\n",
        "mngr.give_raise(1000)\n",
        "print(mngr.salary)   \n",
        "mngr.give_raise(2000, bonus=1.03)\n",
        "print(mngr.salary)"
      ],
      "execution_count": 5,
      "outputs": [
        {
          "output_type": "stream",
          "name": "stdout",
          "text": [
            "79550.0\n",
            "81610.0\n"
          ]
        }
      ]
    },
    {
      "cell_type": "code",
      "metadata": {
        "id": "ysoqQTM4U8fo"
      },
      "source": [
        ""
      ],
      "execution_count": null,
      "outputs": []
    }
  ]
}