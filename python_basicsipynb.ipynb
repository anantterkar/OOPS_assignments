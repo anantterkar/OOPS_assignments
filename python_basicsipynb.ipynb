{
  "nbformat": 4,
  "nbformat_minor": 0,
  "metadata": {
    "colab": {
      "name": "python_basicsipynb",
      "provenance": [],
      "authorship_tag": "ABX9TyOzZMa1PcLyOi2EaddLv3vj",
      "include_colab_link": true
    },
    "kernelspec": {
      "name": "python3",
      "display_name": "Python 3"
    },
    "language_info": {
      "name": "python"
    }
  },
  "cells": [
    {
      "cell_type": "markdown",
      "metadata": {
        "id": "view-in-github",
        "colab_type": "text"
      },
      "source": [
        "<a href=\"https://colab.research.google.com/github/anantterkar/OOPS_assignments/blob/main/python_basicsipynb.ipynb\" target=\"_parent\"><img src=\"https://colab.research.google.com/assets/colab-badge.svg\" alt=\"Open In Colab\"/></a>"
      ]
    },
    {
      "cell_type": "markdown",
      "metadata": {
        "id": "F6yCT6KE_o7l"
      },
      "source": [
        "To find python version use \"!\""
      ]
    },
    {
      "cell_type": "code",
      "metadata": {
        "colab": {
          "base_uri": "https://localhost:8080/"
        },
        "id": "U8UoeW50_aJY",
        "outputId": "1094ecbd-2e66-4a1d-f27e-cea4c808fb3e"
      },
      "source": [
        "!python --version\n"
      ],
      "execution_count": 1,
      "outputs": [
        {
          "output_type": "stream",
          "name": "stdout",
          "text": [
            "Python 3.7.12\n"
          ]
        }
      ]
    },
    {
      "cell_type": "markdown",
      "metadata": {
        "id": "4qFQSUhG_zWq"
      },
      "source": [
        "Data types in python"
      ]
    },
    {
      "cell_type": "code",
      "metadata": {
        "colab": {
          "base_uri": "https://localhost:8080/"
        },
        "id": "Fvcp0f7c_1K5",
        "outputId": "ddab4fa6-1dcd-4317-ad61-2e8b44225805"
      },
      "source": [
        "x = 4\n",
        "y = 'c'\n",
        "z = 1.43\n",
        "w = True \n",
        "print(type(x),\"\\n\", type(y),\"\\n\", type(z), \"\\n\",type(w))"
      ],
      "execution_count": 4,
      "outputs": [
        {
          "output_type": "stream",
          "name": "stdout",
          "text": [
            "<class 'int'> \n",
            " <class 'str'> \n",
            " <class 'float'> \n",
            " <class 'bool'>\n"
          ]
        }
      ]
    },
    {
      "cell_type": "markdown",
      "metadata": {
        "id": "r7thKPZuAVGS"
      },
      "source": [
        "Logical Operations"
      ]
    },
    {
      "cell_type": "code",
      "metadata": {
        "colab": {
          "base_uri": "https://localhost:8080/"
        },
        "id": "jL7J6QcvAWfr",
        "outputId": "adf79777-fe9f-4437-b0d8-07bdd2babaab"
      },
      "source": [
        "x = True\n",
        "y = False\n",
        "print(x and y)\n",
        "print(x or y)\n",
        "print(not x)\n",
        "print(x != y)"
      ],
      "execution_count": 6,
      "outputs": [
        {
          "output_type": "stream",
          "name": "stdout",
          "text": [
            "False\n",
            "True\n",
            "False\n",
            "True\n"
          ]
        }
      ]
    },
    {
      "cell_type": "markdown",
      "metadata": {
        "id": "uFDs0N5bAocD"
      },
      "source": [
        "String methods"
      ]
    },
    {
      "cell_type": "code",
      "metadata": {
        "colab": {
          "base_uri": "https://localhost:8080/"
        },
        "id": "lUprbQfVAp68",
        "outputId": "ab834f2d-4cb9-4915-fb45-a3b7affeba13"
      },
      "source": [
        "str = \"IIIT DHARWAD\"\n",
        "print(str)\n",
        "print(str.capitalize())\n",
        "print(str.casefold())\n",
        "print(len(str))\n",
        "print(str.islower())\n",
        "print(str.isupper())\n",
        "print(str.split(\" \"))\n",
        "str = \"IiiT dHarWaD\"\n",
        "print(str)\n",
        "print(str.swapcase())"
      ],
      "execution_count": 20,
      "outputs": [
        {
          "output_type": "stream",
          "name": "stdout",
          "text": [
            "IIIT DHARWAD\n",
            "Iiit dharwad\n",
            "iiit dharwad\n",
            "12\n",
            "False\n",
            "True\n",
            "['IIIT', 'DHARWAD']\n",
            "IiiT dHarWaD\n",
            "iIIt DhARwAd\n"
          ]
        }
      ]
    },
    {
      "cell_type": "markdown",
      "metadata": {
        "id": "phqlYMo6DT6r"
      },
      "source": [
        "Lists and list comprehensions"
      ]
    },
    {
      "cell_type": "code",
      "metadata": {
        "colab": {
          "base_uri": "https://localhost:8080/"
        },
        "id": "QOb_GOCNDVj7",
        "outputId": "46c27e46-14eb-4e06-801d-9f4d62314022"
      },
      "source": [
        "time = [10,5,20,26,89,\"imi\",9.89]\n",
        "print(time)\n",
        "print(time[3:6])\n",
        "\n",
        "number = [1,2,3,4,5,657,8,9]\n",
        "number = [x/2 for x in number]\n",
        "print(number)"
      ],
      "execution_count": 29,
      "outputs": [
        {
          "output_type": "stream",
          "name": "stdout",
          "text": [
            "[10, 5, 20, 26, 89, 'imi', 9.89]\n",
            "[26, 89, 'imi']\n",
            "[0.5, 1.0, 1.5, 2.0, 2.5, 328.5, 4.0, 4.5]\n"
          ]
        }
      ]
    },
    {
      "cell_type": "markdown",
      "metadata": {
        "id": "M95PWfx-Eo90"
      },
      "source": [
        "Dictionaries"
      ]
    },
    {
      "cell_type": "code",
      "metadata": {
        "colab": {
          "base_uri": "https://localhost:8080/"
        },
        "id": "lidRlDw0EqLa",
        "outputId": "6d6cf94e-3487-448f-a8a9-04faeb0aa374"
      },
      "source": [
        "tools = {'axe':'wood', 'hammer':'iron','boots':'rubber'}\n",
        "print(tools)\n",
        "print(tools['axe'])\n",
        "tools = dict(axe='wood',hammer='iron',boots='rubber')\n",
        "print(tools['hammer'])\n",
        "print(len(tools))\n"
      ],
      "execution_count": 37,
      "outputs": [
        {
          "output_type": "stream",
          "name": "stdout",
          "text": [
            "{'axe': 'wood', 'hammer': 'iron', 'boots': 'rubber'}\n",
            "wood\n",
            "iron\n",
            "3\n"
          ]
        }
      ]
    }
  ]
}