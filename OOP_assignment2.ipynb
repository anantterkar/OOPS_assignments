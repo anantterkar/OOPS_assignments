{
  "nbformat": 4,
  "nbformat_minor": 0,
  "metadata": {
    "colab": {
      "name": "OOP_lab2.ipynb",
      "provenance": [],
      "collapsed_sections": [],
      "authorship_tag": "ABX9TyPi/1Uhi3wflBZ1gRTTjV5e",
      "include_colab_link": true
    },
    "kernelspec": {
      "name": "python3",
      "display_name": "Python 3"
    },
    "language_info": {
      "name": "python"
    }
  },
  "cells": [
    {
      "cell_type": "markdown",
      "metadata": {
        "id": "view-in-github",
        "colab_type": "text"
      },
      "source": [
        "<a href=\"https://colab.research.google.com/github/anantterkar/OOPS_assignments/blob/main/OOP_assignment2.ipynb\" target=\"_parent\"><img src=\"https://colab.research.google.com/assets/colab-badge.svg\" alt=\"Open In Colab\"/></a>"
      ]
    },
    {
      "cell_type": "markdown",
      "metadata": {
        "id": "DBIKsw59nhtN"
      },
      "source": [
        "Problem 1"
      ]
    },
    {
      "cell_type": "code",
      "metadata": {
        "colab": {
          "base_uri": "https://localhost:8080/"
        },
        "id": "IO1FAIZ6hgKY",
        "outputId": "d270fc33-179a-4bab-9dc9-18ac2db90858"
      },
      "source": [
        "class circle():\n",
        "  def __init__(self,radius):\n",
        "    self.radius = radius\n",
        "  def area(self):\n",
        "    area = 3.141*(self.radius)**2\n",
        "    print(\"Area of circle:\",area)\n",
        "  def circumference(self):\n",
        "    circ = 6.282*(self.radius)\n",
        "    print(\"Circumference of circle:\",circ)\n",
        "c1 = circle(20)\n",
        "c1.area()\n",
        "c1.circumference()"
      ],
      "execution_count": null,
      "outputs": [
        {
          "output_type": "stream",
          "name": "stdout",
          "text": [
            "Area of circle: 1256.4\n",
            "Circumference of circle: 125.64\n"
          ]
        }
      ]
    },
    {
      "cell_type": "markdown",
      "metadata": {
        "id": "v7iezn6Mqhcp"
      },
      "source": [
        "Problem 2"
      ]
    },
    {
      "cell_type": "code",
      "metadata": {
        "colab": {
          "base_uri": "https://localhost:8080/"
        },
        "id": "Fc6NPHC3qvEh",
        "outputId": "f24b0b4b-aa0b-42be-c92c-b7fde9dd8471"
      },
      "source": [
        "class faculty():\n",
        "  def __init__(self,Name,EmpID,Branch,Salary):\n",
        "    self.Name = Name\n",
        "    self.EmpID = EmpID\n",
        "    self.Branch = Branch\n",
        "    self.Salary = Salary\n",
        "  def displayName(self):\n",
        "    print(\"Name: \",self.Name)\n",
        "  def displayEmpID(self):\n",
        "    print(\"Employee ID: \",self.EmpID)\n",
        "  def displayBranch(self):\n",
        "    print(\"Branch: \",self.Branch)\n",
        "  def displaySalary(self):\n",
        "    print(\"Salary: \",self.Salary)\n",
        "names = []\n",
        "emp_id = []\n",
        "brch = []\n",
        "salary = []\n",
        "prof = []\n",
        "for i in range(0,5):\n",
        "  name = input(\"Enter the name of the faculty: \")\n",
        "  names.append(name)\n",
        "  id = input(\"Enter the employee ID: \")\n",
        "  emp_id.append(id)\n",
        "  branch = input(\"Enter branch code: \")\n",
        "  brch.append(branch)\n",
        "  slry = input(\"Enter salary amount: \")\n",
        "  salary.append(slry)\n",
        "for i in range(0,5):\n",
        "  prof.append(faculty(names[i],emp_id[i],brch[i],salary[i]))\n",
        "  prof[i].displayName()\n",
        "  prof[i].displayEmpID()\n",
        "  prof[i].displayBranch()\n",
        "  prof[i].displaySalary()\n",
        "\n"
      ],
      "execution_count": null,
      "outputs": [
        {
          "output_type": "stream",
          "name": "stdout",
          "text": [
            "Enter the name of the faculty: Yudhisthira\n",
            "Enter the employee ID: 01CS\n",
            "Enter branch code: CSE\n",
            "Enter salary amount: 20000\n",
            "Enter the name of the faculty: Bheema\n",
            "Enter the employee ID: 02EC\n",
            "Enter branch code: ECE\n",
            "Enter salary amount: 20000\n",
            "Enter the name of the faculty: Arjuna\n",
            "Enter the employee ID: 03EE\n",
            "Enter branch code: EEE\n",
            "Enter salary amount: 18000\n",
            "Enter the name of the faculty: Nakula\n",
            "Enter the employee ID: 04ME\n",
            "Enter branch code: MEE\n",
            "Enter salary amount: 17000\n",
            "Enter the name of the faculty: Sahadeva\n",
            "Enter the employee ID: 05CE\n",
            "Enter branch code: CAE\n",
            "Enter salary amount: 16500\n",
            "Name:  Yudhisthira\n",
            "Employee ID:  01CS\n",
            "Branch:  CSE\n",
            "Salary:  20000\n",
            "Name:  Bheema\n",
            "Employee ID:  02EC\n",
            "Branch:  ECE\n",
            "Salary:  20000\n",
            "Name:  Arjuna\n",
            "Employee ID:  03EE\n",
            "Branch:  EEE\n",
            "Salary:  18000\n",
            "Name:  Nakula\n",
            "Employee ID:  04ME\n",
            "Branch:  MEE\n",
            "Salary:  17000\n",
            "Name:  Sahadeva\n",
            "Employee ID:  05CE\n",
            "Branch:  CAE\n",
            "Salary:  16500\n"
          ]
        }
      ]
    },
    {
      "cell_type": "markdown",
      "metadata": {
        "id": "OleMm9_9uAkh"
      },
      "source": [
        "Problem 3"
      ]
    },
    {
      "cell_type": "code",
      "metadata": {
        "id": "Fm1VpaRLuBpZ",
        "colab": {
          "base_uri": "https://localhost:8080/"
        },
        "outputId": "f7dcecac-b632-4761-f36b-c466941d2ad8"
      },
      "source": [
        "class account():\n",
        "  def __init__(self, Account_No, Name, Amount):\n",
        "     self.Account_No = Account_No\n",
        "     self.Name = Name\n",
        "     self.Amount = Amount\n",
        " \n",
        "  def account_details(self):\n",
        "    print(\"Account Number: \", self.Account_No)\n",
        "    print(\"Account holder name: \", self.Name)\n",
        "    print(\"Total amount remaining: \", self.Amount)\n",
        "  def deposit(self,amt):\n",
        "    self.Amount = self.Amount + amt\n",
        "  def withdraw(self,amt):\n",
        "    self.Amount = self.Amount - amt\n",
        "  def check_balance(self):\n",
        "    print(\"Your account balance is: \", self.Amount)\n",
        "\n",
        "A = account(23456,\"Anil\",500000)\n",
        "A.account_details()\n",
        "A.deposit(50000)\n",
        "A.check_balance()\n",
        "A.withdraw(100000)\n",
        "A.check_balance()"
      ],
      "execution_count": null,
      "outputs": [
        {
          "output_type": "stream",
          "name": "stdout",
          "text": [
            "Account Number:  23456\n",
            "Account holder name:  Anil\n",
            "Total amount remaining:  500000\n",
            "Your account balance is:  550000\n",
            "Your account balance is:  450000\n"
          ]
        }
      ]
    },
    {
      "cell_type": "markdown",
      "metadata": {
        "id": "VH1dx6PU-USi"
      },
      "source": [
        "Problem 4\n"
      ]
    },
    {
      "cell_type": "code",
      "metadata": {
        "colab": {
          "base_uri": "https://localhost:8080/"
        },
        "id": "3BSBdguU94TX",
        "outputId": "25879706-2308-4ef9-8bd1-e7b101fc6265"
      },
      "source": [
        "class student():\n",
        "  def __init__(self,Name,USN,Marks):\n",
        "    self.Name = Name\n",
        "    self.USN = USN\n",
        "    self.Marks = Marks\n",
        "  def displayName(self):\n",
        "    print(\"Name: \", self.Name)\n",
        "  def displayUSN(self):\n",
        "    print(\"USN: \", self.USN)\n",
        "  def displayMarks(self):\n",
        "    print(\"Marks: \",self.Marks)\n",
        "marks = []\n",
        "marks.append(94)    # marks of a student object in three subjects\n",
        "marks.append(86)\n",
        "marks.append(97)\n",
        "\n",
        "s1 = student(\"Ram\", 25, marks)\n",
        "s1.displayName()\n",
        "s1.displayUSN()\n",
        "s1.displayMarks()"
      ],
      "execution_count": null,
      "outputs": [
        {
          "output_type": "stream",
          "name": "stdout",
          "text": [
            "Name:  Ram\n",
            "USN:  25\n",
            "Marks:  [94, 86, 97]\n"
          ]
        }
      ]
    },
    {
      "cell_type": "markdown",
      "metadata": {
        "id": "Stcn9Kf1AS4N"
      },
      "source": [
        "Problem 5"
      ]
    },
    {
      "cell_type": "code",
      "metadata": {
        "colab": {
          "base_uri": "https://localhost:8080/"
        },
        "id": "Ghm4PY13_OZ7",
        "outputId": "98c4151a-8a3c-426e-9114-d0027b0f5ee6"
      },
      "source": [
        "gnrl_ward=0\n",
        "O2_support=0\n",
        "class COVID19():\n",
        "  Name = None\n",
        "  Symptoms = []\n",
        "  O2 = 0\n",
        "  doa = 0\n",
        "  dod = 0\n",
        "  def entry(self):\n",
        "    self.Name = input(\"Enter your name: \")\n",
        "    print(\"Enter three major symptoms: \")\n",
        "    for i in range(0,3):\n",
        "      sy = input()\n",
        "      self.Symptoms.append(sy)\n",
        "    self.O2 = int(input(\"Enter O2 level: \"))\n",
        "    self.doa = input(\"Enter date of admission: \")\n",
        "  def severity(self):\n",
        "    global gnrl_ward\n",
        "    global O2_support\n",
        "    if self.O2<90:\n",
        "      O2_support = O2_support + 1\n",
        "    else:\n",
        "      gnrl_ward = gnrl_ward + 1\n",
        "  def gnrl_ward_cnt(self):\n",
        "    global gnrl_ward\n",
        "    print(\"Number of patients in general ward: \",gnrl_ward)\n",
        "  def support(self):\n",
        "    global O2_support\n",
        "    print(\"Number of patients with Oxygen support: \",O2_support)\n",
        "  def patients(self):\n",
        "    print(\"Number of patients in total: \",gnrl_ward + O2_support)\n",
        "\n",
        "p1 = COVID19()\n",
        "p1.entry()\n",
        "p1.severity()\n",
        "\n",
        "p2 = COVID19()\n",
        "p2.entry()\n",
        "p2.severity()\n",
        "\n",
        "p3 = COVID19()\n",
        "p3.entry()\n",
        "p3.severity()\n",
        "\n",
        "p3.gnrl_ward_cnt()\n",
        "p3.support()\n",
        "p3.patients()"
      ],
      "execution_count": null,
      "outputs": [
        {
          "output_type": "stream",
          "name": "stdout",
          "text": [
            "Enter your name: Anant\n",
            "Enter three major symptoms: \n",
            "Cough\n",
            "Fever\n",
            "Throatpain\n",
            "Enter O2 level: 87\n",
            "Enter date of admission: 15 Sep\n",
            "Enter your name: Julia\n",
            "Enter three major symptoms: \n",
            "High fever\n",
            "Bodyache\n",
            "nausea\n",
            "Enter O2 level: 94\n",
            "Enter date of admission: 16 Sep\n",
            "Enter your name: Ali\n",
            "Enter three major symptoms: \n",
            "Cough\n",
            "Stomach ache\n",
            "vomiting\n",
            "Enter O2 level: 89\n",
            "Enter date of admission: 17 Sep\n",
            "Number of patients in general ward:  1\n",
            "Number of patients with Oxygen support:  2\n",
            "Number of patients in total:  3\n"
          ]
        }
      ]
    },
    {
      "cell_type": "markdown",
      "metadata": {
        "id": "ITP-4uY1z7wy"
      },
      "source": [
        "Problem 6"
      ]
    },
    {
      "cell_type": "code",
      "metadata": {
        "colab": {
          "base_uri": "https://localhost:8080/"
        },
        "id": "7hbUC9nBz-dU",
        "outputId": "8c5436c5-a271-4fc2-af4f-e5b5de231009"
      },
      "source": [
        "class time():\n",
        "  def __init__(self,hour=0,minutes=0,seconds=0):\n",
        "    self.minutes = minutes\n",
        "    self.seconds = seconds\n",
        "    self.hour = hour\n",
        "  def displaytime(self):\n",
        "    print(self.hour,\":\",self.minutes,\":\",self.seconds)\n",
        "t1 = time()\n",
        "t1.displaytime()\n",
        "t1.hour = 13\n",
        "t1.minutes = 34\n",
        "t1.seconds = 53\n",
        "t1.displaytime()"
      ],
      "execution_count": null,
      "outputs": [
        {
          "output_type": "stream",
          "name": "stdout",
          "text": [
            "0 : 0 : 0\n",
            "13 : 34 : 53\n"
          ]
        }
      ]
    },
    {
      "cell_type": "markdown",
      "metadata": {
        "id": "BFzm4ImD2eqo"
      },
      "source": [
        "Problem 7"
      ]
    },
    {
      "cell_type": "code",
      "metadata": {
        "colab": {
          "base_uri": "https://localhost:8080/"
        },
        "id": "A7rC7BGf2isd",
        "outputId": "dfdf55c9-ca20-4394-e787-7ce8a24cafcd"
      },
      "source": [
        "class student():\n",
        "  def __init__(self,Name,Age,Roll):\n",
        "    self.Name = Name\n",
        "    self.Age = Age\n",
        "    self.Roll = Roll\n",
        "\n",
        "s1 = student(\"Rahul\", 21, 33)\n",
        "s2 = student(\"Rohit\", 22, 74)\n",
        "def compare(s1, s2):\n",
        "  if s1.Name == s2.Name:\n",
        "    print(\"True\")\n",
        "  else:\n",
        "    print(\"False\")\n",
        "compare(s1,s2)\n"
      ],
      "execution_count": null,
      "outputs": [
        {
          "output_type": "stream",
          "name": "stdout",
          "text": [
            "False\n"
          ]
        }
      ]
    },
    {
      "cell_type": "markdown",
      "metadata": {
        "id": "KUtEgqNP4-k_"
      },
      "source": [
        "Problem 8"
      ]
    },
    {
      "cell_type": "code",
      "metadata": {
        "colab": {
          "base_uri": "https://localhost:8080/"
        },
        "id": "oFyOrfkb5C7U",
        "outputId": "bdd6b549-4a05-4533-d511-d63f19af97e7"
      },
      "source": [
        "class student():\n",
        "  semester = \"3rd Sem\"\n",
        "  insti = \"IIIT DHARWAD\"\n",
        "  def __init__(self,Name,USN):\n",
        "    self.Name = Name\n",
        "    self.USN = USN\n",
        "  def display(self):\n",
        "    print(\"Name: \",self.Name)\n",
        "    print(\"USN: \",self.USN)\n",
        "  @classmethod\n",
        "  def dis_class(cls):\n",
        "    print(cls.semester)\n",
        "    print(cls.insti)\n",
        "  @staticmethod\n",
        "  def printclass(Name, USN, semester, insti):\n",
        "    print(\"Name: \",Name)\n",
        "    print(\"USN: \", USN)\n",
        "    print(\"semester: \",semester)\n",
        "    print(\"Institute: \",insti)\n",
        "\n",
        "s1 = student(\"Arhan\", 857)\n",
        "s1.display()\n",
        "s1.dis_class()\n",
        "s1.printclass(\"Arhan\",857,\"3rd Sem\", \"IIIT DHARWAD\")\n",
        "\n",
        "\n"
      ],
      "execution_count": null,
      "outputs": [
        {
          "output_type": "stream",
          "name": "stdout",
          "text": [
            "Name:  Arhan\n",
            "USN:  857\n",
            "3rd Sem\n",
            "IIIT DHARWAD\n",
            "Name:  Arhan\n",
            "USN:  857\n",
            "semester:  3rd Sem\n",
            "Institute:  IIIT DHARWAD\n"
          ]
        }
      ]
    },
    {
      "cell_type": "markdown",
      "metadata": {
        "id": "8EmoIuEwDs_X"
      },
      "source": [
        "Problem 9"
      ]
    },
    {
      "cell_type": "code",
      "metadata": {
        "id": "fgy9yWQS_r1b",
        "colab": {
          "base_uri": "https://localhost:8080/"
        },
        "outputId": "d7420f3c-afc0-44a5-cf30-4291c411d29f"
      },
      "source": [
        "class student():\n",
        "  def __init__(self,Name,Roll,Sem,CPU,RAM,Hard_disk,display_details):\n",
        "    self.Name = Name\n",
        "    self.Roll = Roll\n",
        "    self.Sem = Sem\n",
        "\n",
        "    self.lap = self.laptop(CPU,RAM,Hard_disk,display_details)\n",
        "  class laptop():\n",
        "    def __init__(self,CPU,RAM,Hard_disk,display_details):\n",
        "      self.CPU = CPU\n",
        "      self.RAM = RAM\n",
        "      self.Hard_disk = Hard_disk\n",
        "      self.display_details = display_details\n",
        "    def displayDetails(self):\n",
        "      print(\"CPU : \",self.CPU)\n",
        "      print(\"RAM: \",self.RAM)\n",
        "      print(\"Hard_disk: \",self.Hard_disk)\n",
        "      print(\"Display details: \",self.display_details)\n",
        "  def display_student(self):\n",
        "    print(\"Name: \",self.Name)\n",
        "    print(\"Roll: \",self.Roll)\n",
        "    print(\"Sem: \",self.Sem)\n",
        "    self.lap.displayDetails()\n",
        "\n",
        "\n",
        "\n",
        "s1 = student(\"Halua\",23,3,\"i7\",\"8 GB\",\"1TB HDD\",\"8K\")\n",
        "s2 = student(\"Balton\",24,5,\"i9\",\"16 GB\",\"1TB SSD\",\"16K\")\n",
        "s3 = student(\"Sheldon\",45,1,\"i3\",\"4 GB\",\"256GB HDD\",\"2K\")\n",
        "s1.lap.displayDetails()\n",
        "s1.display_student()\n",
        "\n",
        "s2.lap.displayDetails()\n",
        "s2.display_student()\n",
        "\n",
        "s3.lap.displayDetails()\n",
        "s3.display_student()"
      ],
      "execution_count": 29,
      "outputs": [
        {
          "output_type": "stream",
          "name": "stdout",
          "text": [
            "CPU :  i7\n",
            "RAM:  8 GB\n",
            "Hard_disk:  1TB HDD\n",
            "Display details:  8K\n",
            "Name:  Halua\n",
            "Roll:  23\n",
            "Sem:  3\n",
            "CPU :  i7\n",
            "RAM:  8 GB\n",
            "Hard_disk:  1TB HDD\n",
            "Display details:  8K\n",
            "CPU :  i9\n",
            "RAM:  16 GB\n",
            "Hard_disk:  1TB SSD\n",
            "Display details:  16K\n",
            "Name:  Balton\n",
            "Roll:  24\n",
            "Sem:  5\n",
            "CPU :  i9\n",
            "RAM:  16 GB\n",
            "Hard_disk:  1TB SSD\n",
            "Display details:  16K\n",
            "CPU :  i3\n",
            "RAM:  4 GB\n",
            "Hard_disk:  256GB HDD\n",
            "Display details:  2K\n",
            "Name:  Sheldon\n",
            "Roll:  45\n",
            "Sem:  1\n",
            "CPU :  i3\n",
            "RAM:  4 GB\n",
            "Hard_disk:  256GB HDD\n",
            "Display details:  2K\n"
          ]
        }
      ]
    },
    {
      "cell_type": "code",
      "metadata": {
        "id": "66f97W7hFaMW"
      },
      "source": [
        ""
      ],
      "execution_count": null,
      "outputs": []
    }
  ]
}