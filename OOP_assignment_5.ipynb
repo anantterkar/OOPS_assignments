{
  "nbformat": 4,
  "nbformat_minor": 0,
  "metadata": {
    "colab": {
      "name": "OOP_assignment_5.ipynb",
      "provenance": [],
      "authorship_tag": "ABX9TyNBce/q9XRan/mKG0xFRBux",
      "include_colab_link": true
    },
    "kernelspec": {
      "name": "python3",
      "display_name": "Python 3"
    },
    "language_info": {
      "name": "python"
    }
  },
  "cells": [
    {
      "cell_type": "markdown",
      "metadata": {
        "id": "view-in-github",
        "colab_type": "text"
      },
      "source": [
        "<a href=\"https://colab.research.google.com/github/anantterkar/OOPS_assignments/blob/main/OOP_assignment_5.ipynb\" target=\"_parent\"><img src=\"https://colab.research.google.com/assets/colab-badge.svg\" alt=\"Open In Colab\"/></a>"
      ]
    },
    {
      "cell_type": "markdown",
      "metadata": {
        "id": "00xbAVsFLbmG"
      },
      "source": [
        "##Problem 1: \n",
        "Write a Python programme to create the parent class shape, derive the subclasses circle,\n",
        "square, and rectangle from the class shape, and demonstrate polymorphism in inheritance\n",
        "using a member function area ()."
      ]
    },
    {
      "cell_type": "code",
      "metadata": {
        "colab": {
          "base_uri": "https://localhost:8080/"
        },
        "id": "QofmbuCbLmSc",
        "outputId": "0c034be9-be94-470a-e065-4683b97e4fee"
      },
      "source": [
        "class shape():\n",
        "    def area():\n",
        "        pass\n",
        "\n",
        "class circle(shape):\n",
        "    def __init__(self,radius):\n",
        "        self.radius = radius\n",
        "    def area(self):\n",
        "        print(\"The area is: \",3.14*(self.radius**2))\n",
        "        \n",
        "class square(shape):\n",
        "    def __init__(self,side):\n",
        "        self.side = side\n",
        "    def area(self):\n",
        "        print(\"The area is: \",self.side**2)\n",
        "        \n",
        "class rectangle(shape):\n",
        "    def __init__(self,l,b):\n",
        "        self.l = l\n",
        "        self.b = b\n",
        "    def area(self):\n",
        "        print(\"The area is: \",self.l*self.b)\n",
        "        \n",
        "s1 = circle(2)\n",
        "s1.area()\n",
        "s2 = square(10)\n",
        "s2.area()\n",
        "s3 = rectangle(20,89)\n",
        "s3.area()\n",
        "\n",
        "\n",
        "    "
      ],
      "execution_count": null,
      "outputs": [
        {
          "output_type": "stream",
          "name": "stdout",
          "text": [
            "The area is:  12.56\n",
            "The area is:  100\n",
            "The area is:  1780\n"
          ]
        }
      ]
    },
    {
      "cell_type": "markdown",
      "metadata": {
        "id": "n42_DVQNLuxY"
      },
      "source": [
        "##Problem 2: \n",
        "The family has decided to travel by road from Dharwad to Belagavi, and they have\n",
        "chosen to estimate the cost before starting on this journey. Write python code to create\n",
        "the parent class Travel with member functions include the number of passengers, the\n",
        "distance travelled, and the mode of transportation. Derive two subclasses, train and bus,\n",
        "from the parent class, each with a member function that calculates the cost of trip. Also,\n",
        "keep the numbers of passengers as a private member of the parent class and try to access\n",
        "it through the child class to estimate costs.\n",
        "[Note: Assume cost of travelling/person through train = 60 rs, cost of travelling /person\n",
        "through bus= 100 rs].\n"
      ]
    },
    {
      "cell_type": "code",
      "metadata": {
        "colab": {
          "base_uri": "https://localhost:8080/"
        },
        "id": "pJWjtikNL5i2",
        "outputId": "167d1c0d-320a-4ad9-9b76-297f2aa8f714"
      },
      "source": [
        "class travel():\n",
        "    def __init__(self,distance, mode):\n",
        "        self.distance = distance\n",
        "        self.mode = mode\n",
        "        self._number = 10\n",
        "\n",
        "class train(travel):\n",
        "    def __init__(self,distance,mode):\n",
        "        travel.__init__(self,distance,mode)\n",
        "        \n",
        "    def cost(self):\n",
        "        print(\"cost of train travel: \", self._number*60)\n",
        "    \n",
        "class bus(travel):\n",
        "    def __init__(self,distance,mode):\n",
        "        travel.__init__(self,distance,mode)\n",
        "       \n",
        "    def cost(self):\n",
        "        print(\"cost of bus travel: \", self._number*100)\n",
        "\n",
        "family_1 = train(100,\"train\")\n",
        "family_2 = bus(100, \"bus\")\n",
        "\n",
        "family_1.cost()\n",
        "family_2.cost()"
      ],
      "execution_count": null,
      "outputs": [
        {
          "output_type": "stream",
          "name": "stdout",
          "text": [
            "cost of train travel:  600\n",
            "cost of bus travel:  1000\n"
          ]
        }
      ]
    },
    {
      "cell_type": "markdown",
      "metadata": {
        "id": "eQjDMAVlMEZm"
      },
      "source": [
        "##Problem 3:\n",
        "Assume that there a class Car with model number as its member variable. Write a python\n",
        "program to swap the values of model number in Car objects c1 and c2"
      ]
    },
    {
      "cell_type": "code",
      "metadata": {
        "colab": {
          "base_uri": "https://localhost:8080/"
        },
        "id": "2RdbISfIMe5Z",
        "outputId": "061fc773-7b88-460e-8ebd-2df45a68ce05"
      },
      "source": [
        "class Car():\n",
        "  def __init__(self,model_number):\n",
        "    self.model_number = model_number\n",
        "  def show(self):\n",
        "    print(self.model_number)\n",
        "\n",
        "c1 = Car(23)\n",
        "c2 = Car(43)\n",
        "\n",
        "c1.model_number, c2.model_number = c2.model_number , c1.model_number\n",
        "\n",
        "c1.show()\n",
        "c2.show()"
      ],
      "execution_count": null,
      "outputs": [
        {
          "output_type": "stream",
          "name": "stdout",
          "text": [
            "43\n",
            "23\n"
          ]
        }
      ]
    }
  ]
}