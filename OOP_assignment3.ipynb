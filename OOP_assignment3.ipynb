{
  "nbformat": 4,
  "nbformat_minor": 0,
  "metadata": {
    "colab": {
      "name": "OOP_assignment3.ipynb",
      "provenance": [],
      "collapsed_sections": [],
      "authorship_tag": "ABX9TyNdr35CKxS1voNho/kVCcjI",
      "include_colab_link": true
    },
    "kernelspec": {
      "name": "python3",
      "display_name": "Python 3"
    },
    "language_info": {
      "name": "python"
    }
  },
  "cells": [
    {
      "cell_type": "markdown",
      "metadata": {
        "id": "view-in-github",
        "colab_type": "text"
      },
      "source": [
        "<a href=\"https://colab.research.google.com/github/anantterkar/OOPS_assignments/blob/main/OOP_assignment3.ipynb\" target=\"_parent\"><img src=\"https://colab.research.google.com/assets/colab-badge.svg\" alt=\"Open In Colab\"/></a>"
      ]
    },
    {
      "cell_type": "markdown",
      "metadata": {
        "id": "Bx_F-XL3uQd0"
      },
      "source": [
        "Problem 1"
      ]
    },
    {
      "cell_type": "code",
      "metadata": {
        "colab": {
          "base_uri": "https://localhost:8080/"
        },
        "id": "vYyR7c91mC8F",
        "outputId": "b99c5730-f3f6-490e-e2bb-2d97d9ed9713"
      },
      "source": [
        "class student():\n",
        "  def __init__(self,Name,Reg_no,Age,Gender,Branch,Sem):\n",
        "    self.Name = Name\n",
        "    self.Reg_no = Reg_no\n",
        "    self.Age = Age\n",
        "    self.Gender = Gender\n",
        "    self.Branch = Branch\n",
        "    self.Sem = Sem\n",
        "  def display_details(self):\n",
        "    print(\"Name: \",self.Name)\n",
        "    print(\"Registration number: \",self.Reg_no)\n",
        "    print(\"Age: \",self.Age)\n",
        "    print(\"Gender: \",self.Gender)\n",
        "    print(\"Branch: \",self.Branch)\n",
        "    print(\"Semester: \",self.Sem)\n",
        "\n",
        "class StudentResultInfo(student):\n",
        "  def __init__(self,Name,Reg_no,Age,Gender,Branch,Sem,Total_marks,Percentage,Grade):\n",
        "    self.Total_marks = Total_marks\n",
        "    self.Percentage = Percentage\n",
        "    self.Grade = Grade\n",
        "    student.__init__(self,Name,Reg_no,Age,Gender,Branch,Sem)\n",
        "  def display_student_details(self):\n",
        "    print(\"Name: \",self.Name)\n",
        "    print(\"Registration number: \",self.Reg_no)\n",
        "    print(\"Age: \",self.Age)\n",
        "    print(\"Gender: \",self.Gender)\n",
        "    print(\"Branch: \",self.Branch)\n",
        "    print(\"Semester: \",self.Sem)\n",
        "    print(\"Total_marks: \",self.Total_marks)\n",
        "    print(\"Percentage: \",self.Percentage)\n",
        "    print(\"Grade: \",self.Grade)\n",
        "\n",
        "s1 = StudentResultInfo(\"Ram\",\"21ece034\",18,\"M\",\"ECE\",1,450,90,\"A\")\n",
        "\n",
        "s1.display_student_details()"
      ],
      "execution_count": 22,
      "outputs": [
        {
          "output_type": "stream",
          "name": "stdout",
          "text": [
            "Name:  Ram\n",
            "Registration number:  21ece034\n",
            "Age:  18\n",
            "Gender:  M\n",
            "Branch:  ECE\n",
            "Semester:  1\n",
            "Total_marks:  450\n",
            "Percentage:  90\n",
            "Grade:  A\n"
          ]
        }
      ]
    },
    {
      "cell_type": "markdown",
      "metadata": {
        "id": "fx52bu0XuTta"
      },
      "source": [
        "Problem 2"
      ]
    },
    {
      "cell_type": "code",
      "metadata": {
        "colab": {
          "base_uri": "https://localhost:8080/"
        },
        "id": "WHJoz_z2tKjl",
        "outputId": "3e510022-6489-4c1b-fee5-1506253fad96"
      },
      "source": [
        "class PDF():\n",
        "  def __init__(self,author,pdf_description,pdf_file_size):\n",
        "    self.author = author\n",
        "    self.pdf_description = pdf_description\n",
        "    self.pdf_file_size = pdf_file_size\n",
        "  def display_PDF(self):\n",
        "    print(\"PDF author: \",self.author)\n",
        "    print(\"PDF description: \",self.pdf_description)\n",
        "    print(\"PDF size: \",self.pdf_file_size)\n",
        "\n",
        "class pictures():\n",
        "  def __init__(self,source,pic_description,dimension_l,dimension_b,pic_file_size):\n",
        "    self.source = source\n",
        "    self.pic_description = pic_description\n",
        "    self.dimension_l = dimension_l\n",
        "    self.dimension_b = dimension_b\n",
        "    self.pic_file_size = pic_file_size\n",
        "  def display_picture(self):\n",
        "    print(\"Source of picture: \",self.source)\n",
        "    print(\"Picture decription: \",self.pic_description)\n",
        "    print(\"Picture dimensions: \",self.dimension_l)\n",
        "    print(self.dimension_b)\n",
        "    print(\"Picture size: \",self.pic_file_size)\n",
        "\n",
        "class CMS(PDF,pictures):\n",
        "  def __init__(self,source,pic_description,dimension_l,dimension_b,pic_file_size,author,pdf_description,pdf_file_size):\n",
        "    PDF.__init__(self,author,pdf_description,pdf_file_size)\n",
        "    pictures.__init__(self,source,pic_description,dimension_l,dimension_b,pic_file_size)\n",
        "\n",
        "  def check_threshold(self):\n",
        "   # pdf0 = self.PDF()\n",
        "    if self.pdf_file_size > 10000:              #10,000 bytes is 10KB\n",
        "      print(\"File size exceded\")\n",
        "   # pic0 = self.pictures()\n",
        "    if self.pic_file_size > 10000:              #10,000 bytes is 10KB\n",
        "      print(\"File size exceded\")\n",
        "\n",
        "  def display_file_details(self):\n",
        "    #pdf0 = self.PDF()\n",
        "    self.display_PDF()\n",
        "   # pic0 = self.pictures()\n",
        "    self.display_picture()\n",
        "\n",
        "  def check_dimensions(self):\n",
        "    d = self.dimensions.split()\n",
        "    if d[0] > 3648 and d[1] > 2736:                   #basic image resolution\n",
        "      print(\"Image resolution exceded\")\n",
        "\n",
        "cms = CMS(\"google\",\"garden\",23,32,3000,\"James\",\"Matter\",4000)\n",
        "cms.display_file_details()\n"
      ],
      "execution_count": 41,
      "outputs": [
        {
          "output_type": "stream",
          "name": "stdout",
          "text": [
            "PDF author:  James\n",
            "PDF description:  Matter\n",
            "PDF size:  4000\n",
            "Source of picture:  google\n",
            "Picture decription:  garden\n",
            "Picture dimensions:  23\n",
            "32\n",
            "Picture size:  3000\n"
          ]
        }
      ]
    },
    {
      "cell_type": "markdown",
      "metadata": {
        "id": "dNDk1dx3Kf14"
      },
      "source": [
        "Problem 3"
      ]
    },
    {
      "cell_type": "code",
      "metadata": {
        "colab": {
          "base_uri": "https://localhost:8080/"
        },
        "id": "XmqMGhgqKg-Q",
        "outputId": "04170957-48da-45e1-ea6b-9a497de69622"
      },
      "source": [
        "class vehicle():\n",
        "  def __init__(self,Name,Mileage,capacity):\n",
        "    self.Name = Name\n",
        "    self.Mileage = Mileage\n",
        "    self.capacity = capacity\n",
        "class Bus(vehicle):\n",
        "  m = 0.1\n",
        "  def __init__(self,Name,Mileage,capacity):\n",
        "    vehicle.__init__(self,Name,Mileage,capacity)\n",
        "  def fare(self):\n",
        "    fare = (self.capacity*100)*1.1\n",
        "    print(\"Total fare: \",fare)\n",
        "b1 = Bus(\"Tata\",25,50)\n",
        "b1.fare()"
      ],
      "execution_count": 44,
      "outputs": [
        {
          "output_type": "stream",
          "name": "stdout",
          "text": [
            "Total fare:  5500.0\n"
          ]
        }
      ]
    }
  ]
}